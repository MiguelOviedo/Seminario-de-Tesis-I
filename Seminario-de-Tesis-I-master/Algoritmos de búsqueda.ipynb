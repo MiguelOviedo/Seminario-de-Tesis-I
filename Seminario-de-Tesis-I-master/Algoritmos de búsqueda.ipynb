{
 "cells": [
  {
   "cell_type": "markdown",
   "metadata": {},
   "source": [
    "## Procesamiento de datos"
   ]
  },
  {
   "cell_type": "code",
   "execution_count": 1,
   "metadata": {
    "scrolled": true
   },
   "outputs": [],
   "source": [
    "import pandas as pd\n",
    "import matplotlib.pyplot as plt\n",
    "import seaborn as sns\n",
    "\n",
    "import model_estimator\n",
    "\n",
    "from sklearn.model_selection import train_test_split\n",
    "from sklearn.model_selection import KFold\n",
    "from sklearn.model_selection import cross_val_score\n",
    "\n",
    "from sklearn.tree import DecisionTreeClassifier\n",
    "from sklearn.neighbors import KNeighborsClassifier\n",
    "from sklearn.svm import SVC"
   ]
  },
  {
   "cell_type": "code",
   "execution_count": 2,
   "metadata": {},
   "outputs": [],
   "source": [
    "dataset = pd.read_csv(\"Data/Tx_0x04.csv\")"
   ]
  },
  {
   "cell_type": "markdown",
   "metadata": {},
   "source": [
    "### Separación del conjunto de datos"
   ]
  },
  {
   "cell_type": "code",
   "execution_count": 3,
   "metadata": {
    "scrolled": true
   },
   "outputs": [],
   "source": [
    "def splitData(dataset, validation_size):\n",
    "    vector = dataset.values\n",
    "    X = vector[:, 0:dataset.shape[1] - 1] # Features\n",
    "    Y = vector[:, dataset.shape[1] - 1] # Target\n",
    "\n",
    "    return train_test_split(X, Y, test_size=validation_size)"
   ]
  },
  {
   "cell_type": "code",
   "execution_count": 4,
   "metadata": {},
   "outputs": [],
   "source": [
    "X_train, X_test, y_train, y_test = splitData(dataset, 0.20)"
   ]
  },
  {
   "cell_type": "markdown",
   "metadata": {},
   "source": [
    "## Selección de estimadores"
   ]
  },
  {
   "cell_type": "code",
   "execution_count": 5,
   "metadata": {
    "scrolled": false
   },
   "outputs": [],
   "source": [
    "model_DT = { \n",
    "    'DecisionTree': DecisionTreeClassifier()\n",
    "}\n",
    "\n",
    "# Parametros de los modelos para el Test \n",
    "# DT: 2*2*3*2*4 = 96\n",
    "params_DT = {\n",
    "    'DecisionTree': { \n",
    "        'class_weight': ['balanced', None],\n",
    "        'criterion': ['entropy', 'gini'],\n",
    "        'max_features': ['sqrt', 'log2', None],\n",
    "        'min_samples_split': [2, 4, 6, 8],\n",
    "        'splitter': ['best', 'random']\n",
    "    }\n",
    "}"
   ]
  },
  {
   "cell_type": "code",
   "execution_count": 6,
   "metadata": {
    "scrolled": false
   },
   "outputs": [],
   "source": [
    "model_SVC = { \n",
    "    'SVC': SVC()\n",
    "}\n",
    "\n",
    "# Parametros de los modelos para el Test \n",
    "# SVC: 4*4*4*2*2*2 = 512\n",
    "params_SVC = {\n",
    "    'SVC': {\n",
    "        'kernel': ['linear', 'rbf', 'poly', 'sigmoid'], \n",
    "        'C': [0.5, 1, 1.5, 3], \n",
    "        'degree': [2, 3, 4, 5],\n",
    "        'probability': [True, False],\n",
    "        'shrinking': [True, False],\n",
    "        'decision_function_shape': ['ovo', 'ovr'],\n",
    "        #'max_iter': [300]\n",
    "    }\n",
    "}"
   ]
  },
  {
   "cell_type": "code",
   "execution_count": 7,
   "metadata": {
    "scrolled": false
   },
   "outputs": [],
   "source": [
    "model_kNN = {\n",
    "    'kNN': KNeighborsClassifier()\n",
    "}\n",
    "\n",
    "# Parametros de los modelos para el Test\n",
    "# KNN: 10*2*3*5*9=2700\n",
    "params_kNN = {\n",
    "    'kNN': { \n",
    "        'n_neighbors': list(range(1,11)),\n",
    "        'weights': ['uniform', 'distance'], \n",
    "        'algorithm': ['ball_tree','kd_tree','brute'], \n",
    "        'p': [1, 2, 3, 4, 5],\n",
    "        'leaf_size': list(range(10, 51, 5))\n",
    "    }\n",
    "}"
   ]
  },
  {
   "cell_type": "markdown",
   "metadata": {},
   "source": [
    "## Testing búsqueda exhaustiva"
   ]
  },
  {
   "cell_type": "markdown",
   "metadata": {},
   "source": [
    "### DT"
   ]
  },
  {
   "cell_type": "code",
   "execution_count": 8,
   "metadata": {},
   "outputs": [
    {
     "name": "stdout",
     "output_type": "stream",
     "text": [
      "Ejecutando la búsqueda exhaustiva para el modelo DecisionTree ....\n",
      "Fitting 10 folds for each of 96 candidates, totalling 960 fits\n"
     ]
    },
    {
     "name": "stderr",
     "output_type": "stream",
     "text": [
      "[Parallel(n_jobs=8)]: Using backend LokyBackend with 8 concurrent workers.\n",
      "[Parallel(n_jobs=8)]: Done  34 tasks      | elapsed:    2.8s\n",
      "[Parallel(n_jobs=8)]: Done 328 tasks      | elapsed:    5.3s\n",
      "[Parallel(n_jobs=8)]: Done 945 out of 960 | elapsed:    8.8s remaining:    0.1s\n",
      "[Parallel(n_jobs=8)]: Done 960 out of 960 | elapsed:    8.9s finished\n"
     ]
    }
   ],
   "source": [
    "helperExh_DT = model_estimator.EstimatorSelection(model_DT, params_DT)\n",
    "helperExh_DT.fitModel('Exh', X_train, y_train, scoring='accuracy', n_jobs=8)"
   ]
  },
  {
   "cell_type": "code",
   "execution_count": 9,
   "metadata": {
    "scrolled": true
   },
   "outputs": [
    {
     "name": "stdout",
     "output_type": "stream",
     "text": [
      "Tiempo de ejecución (seg): [8.932374477386475]\n"
     ]
    },
    {
     "data": {
      "text/html": [
       "<div>\n",
       "<style scoped>\n",
       "    .dataframe tbody tr th:only-of-type {\n",
       "        vertical-align: middle;\n",
       "    }\n",
       "\n",
       "    .dataframe tbody tr th {\n",
       "        vertical-align: top;\n",
       "    }\n",
       "\n",
       "    .dataframe thead th {\n",
       "        text-align: right;\n",
       "    }\n",
       "</style>\n",
       "<table border=\"1\" class=\"dataframe\">\n",
       "  <thead>\n",
       "    <tr style=\"text-align: right;\">\n",
       "      <th></th>\n",
       "      <th></th>\n",
       "      <th>.Accuracy</th>\n",
       "      <th>.Error</th>\n",
       "      <th>class_weight</th>\n",
       "      <th>criterion</th>\n",
       "      <th>max_features</th>\n",
       "      <th>min_samples_split</th>\n",
       "      <th>splitter</th>\n",
       "    </tr>\n",
       "  </thead>\n",
       "  <tbody>\n",
       "    <tr>\n",
       "      <th rowspan=\"10\" valign=\"top\">DecisionTree</th>\n",
       "      <th>64</th>\n",
       "      <td>0.784983</td>\n",
       "      <td>0.009773</td>\n",
       "      <td></td>\n",
       "      <td>entropy</td>\n",
       "      <td></td>\n",
       "      <td>2</td>\n",
       "      <td>best</td>\n",
       "    </tr>\n",
       "    <tr>\n",
       "      <th>88</th>\n",
       "      <td>0.781150</td>\n",
       "      <td>0.016511</td>\n",
       "      <td></td>\n",
       "      <td>gini</td>\n",
       "      <td></td>\n",
       "      <td>2</td>\n",
       "      <td>best</td>\n",
       "    </tr>\n",
       "    <tr>\n",
       "      <th>16</th>\n",
       "      <td>0.779756</td>\n",
       "      <td>0.015086</td>\n",
       "      <td>balanced</td>\n",
       "      <td>entropy</td>\n",
       "      <td></td>\n",
       "      <td>2</td>\n",
       "      <td>best</td>\n",
       "    </tr>\n",
       "    <tr>\n",
       "      <th>40</th>\n",
       "      <td>0.777320</td>\n",
       "      <td>0.017415</td>\n",
       "      <td>balanced</td>\n",
       "      <td>gini</td>\n",
       "      <td></td>\n",
       "      <td>2</td>\n",
       "      <td>best</td>\n",
       "    </tr>\n",
       "    <tr>\n",
       "      <th>92</th>\n",
       "      <td>0.776795</td>\n",
       "      <td>0.019015</td>\n",
       "      <td></td>\n",
       "      <td>gini</td>\n",
       "      <td></td>\n",
       "      <td>6</td>\n",
       "      <td>best</td>\n",
       "    </tr>\n",
       "    <tr>\n",
       "      <th>22</th>\n",
       "      <td>0.776791</td>\n",
       "      <td>0.014213</td>\n",
       "      <td>balanced</td>\n",
       "      <td>entropy</td>\n",
       "      <td></td>\n",
       "      <td>8</td>\n",
       "      <td>best</td>\n",
       "    </tr>\n",
       "    <tr>\n",
       "      <th>18</th>\n",
       "      <td>0.776271</td>\n",
       "      <td>0.013492</td>\n",
       "      <td>balanced</td>\n",
       "      <td>entropy</td>\n",
       "      <td></td>\n",
       "      <td>4</td>\n",
       "      <td>best</td>\n",
       "    </tr>\n",
       "    <tr>\n",
       "      <th>66</th>\n",
       "      <td>0.775923</td>\n",
       "      <td>0.012870</td>\n",
       "      <td></td>\n",
       "      <td>entropy</td>\n",
       "      <td></td>\n",
       "      <td>4</td>\n",
       "      <td>best</td>\n",
       "    </tr>\n",
       "    <tr>\n",
       "      <th>72</th>\n",
       "      <td>0.775752</td>\n",
       "      <td>0.015302</td>\n",
       "      <td></td>\n",
       "      <td>gini</td>\n",
       "      <td>sqrt</td>\n",
       "      <td>2</td>\n",
       "      <td>best</td>\n",
       "    </tr>\n",
       "    <tr>\n",
       "      <th>20</th>\n",
       "      <td>0.775398</td>\n",
       "      <td>0.010277</td>\n",
       "      <td>balanced</td>\n",
       "      <td>entropy</td>\n",
       "      <td></td>\n",
       "      <td>6</td>\n",
       "      <td>best</td>\n",
       "    </tr>\n",
       "  </tbody>\n",
       "</table>\n",
       "</div>"
      ],
      "text/plain": [
       "                 .Accuracy    .Error class_weight criterion max_features  \\\n",
       "DecisionTree 64   0.784983  0.009773                entropy                \n",
       "             88   0.781150  0.016511                   gini                \n",
       "             16   0.779756  0.015086     balanced   entropy                \n",
       "             40   0.777320  0.017415     balanced      gini                \n",
       "             92   0.776795  0.019015                   gini                \n",
       "             22   0.776791  0.014213     balanced   entropy                \n",
       "             18   0.776271  0.013492     balanced   entropy                \n",
       "             66   0.775923  0.012870                entropy                \n",
       "             72   0.775752  0.015302                   gini         sqrt   \n",
       "             20   0.775398  0.010277     balanced   entropy                \n",
       "\n",
       "                 min_samples_split splitter  \n",
       "DecisionTree 64                  2     best  \n",
       "             88                  2     best  \n",
       "             16                  2     best  \n",
       "             40                  2     best  \n",
       "             92                  6     best  \n",
       "             22                  8     best  \n",
       "             18                  4     best  \n",
       "             66                  4     best  \n",
       "             72                  2     best  \n",
       "             20                  6     best  "
      ]
     },
     "execution_count": 9,
     "metadata": {},
     "output_type": "execute_result"
    }
   ],
   "source": [
    "print(\"Tiempo de ejecución (seg): \"+str(helperExh_DT.timeModel['DecisionTree']))\n",
    "helperExh_DT.scoreModel().sort_values(['.Accuracy'], ascending=False).head(10)"
   ]
  },
  {
   "cell_type": "markdown",
   "metadata": {},
   "source": [
    "### SVC"
   ]
  },
  {
   "cell_type": "code",
   "execution_count": 10,
   "metadata": {
    "scrolled": true
   },
   "outputs": [],
   "source": [
    "#helperExh_SVC = model_estimator.EstimatorSelection(model_SVC, params_SVC)\n",
    "#helperExh_SVC.fitModel('Exh', X_train, y_train, scoring='accuracy', n_jobs=4, population_size=20, generations_number=10)"
   ]
  },
  {
   "cell_type": "code",
   "execution_count": 11,
   "metadata": {},
   "outputs": [],
   "source": [
    "#print(\"Tiempo de ejecución (seg): \"+str(helperExh_SVC.timeModel['SVC']))\n",
    "#helperExh_SVC.scoreModel().sort_values(['.Accuracy'], ascending=False).head(10)"
   ]
  },
  {
   "cell_type": "markdown",
   "metadata": {},
   "source": [
    "### kNN"
   ]
  },
  {
   "cell_type": "code",
   "execution_count": 12,
   "metadata": {},
   "outputs": [],
   "source": [
    "#helperExh_kNN = model_estimator.EstimatorSelection(model_kNN, params_kNN)\n",
    "#helperExh_kNN.fitModel('Exh', X_train, y_train, scoring='accuracy', n_jobs=4, population_size=20, generations_number=10)"
   ]
  },
  {
   "cell_type": "code",
   "execution_count": 13,
   "metadata": {
    "scrolled": false
   },
   "outputs": [],
   "source": [
    "#print(\"Tiempo de ejecución (seg): \"+str(helperExh_kNN.timeModel['kNN']))\n",
    "#helperExh_kNN.scoreModel().sort_values(['.Accuracy'], ascending=False).head(10)"
   ]
  },
  {
   "cell_type": "markdown",
   "metadata": {},
   "source": [
    "## Testing búsqueda aleatoria"
   ]
  },
  {
   "cell_type": "markdown",
   "metadata": {},
   "source": [
    "### DT"
   ]
  },
  {
   "cell_type": "code",
   "execution_count": 14,
   "metadata": {},
   "outputs": [
    {
     "name": "stdout",
     "output_type": "stream",
     "text": [
      "Ejecutando la búsqueda aleatoria para el modelo DecisionTree ...\n",
      "Fitting 10 folds for each of 10 candidates, totalling 100 fits\n"
     ]
    },
    {
     "name": "stderr",
     "output_type": "stream",
     "text": [
      "[Parallel(n_jobs=8)]: Using backend LokyBackend with 8 concurrent workers.\n",
      "[Parallel(n_jobs=8)]: Done  53 tasks      | elapsed:    0.6s\n",
      "[Parallel(n_jobs=8)]: Done  85 out of 100 | elapsed:    0.8s remaining:    0.1s\n",
      "[Parallel(n_jobs=8)]: Done 100 out of 100 | elapsed:    0.8s finished\n"
     ]
    }
   ],
   "source": [
    "helperRnd_DT = model_estimator.EstimatorSelection(model_DT, params_DT)\n",
    "helperRnd_DT.fitModel('Rdn', X_train, y_train, scoring='accuracy', n_jobs=8)"
   ]
  },
  {
   "cell_type": "code",
   "execution_count": 15,
   "metadata": {
    "scrolled": true
   },
   "outputs": [
    {
     "name": "stdout",
     "output_type": "stream",
     "text": [
      "Tiempo de ejecución (seg): [0.8321702480316162]\n"
     ]
    },
    {
     "data": {
      "text/html": [
       "<div>\n",
       "<style scoped>\n",
       "    .dataframe tbody tr th:only-of-type {\n",
       "        vertical-align: middle;\n",
       "    }\n",
       "\n",
       "    .dataframe tbody tr th {\n",
       "        vertical-align: top;\n",
       "    }\n",
       "\n",
       "    .dataframe thead th {\n",
       "        text-align: right;\n",
       "    }\n",
       "</style>\n",
       "<table border=\"1\" class=\"dataframe\">\n",
       "  <thead>\n",
       "    <tr style=\"text-align: right;\">\n",
       "      <th></th>\n",
       "      <th></th>\n",
       "      <th>.Accuracy</th>\n",
       "      <th>.Error</th>\n",
       "      <th>splitter</th>\n",
       "      <th>min_samples_split</th>\n",
       "      <th>max_features</th>\n",
       "      <th>criterion</th>\n",
       "      <th>class_weight</th>\n",
       "    </tr>\n",
       "  </thead>\n",
       "  <tbody>\n",
       "    <tr>\n",
       "      <th rowspan=\"10\" valign=\"top\">DecisionTree</th>\n",
       "      <th>7</th>\n",
       "      <td>0.764420</td>\n",
       "      <td>0.014069</td>\n",
       "      <td>best</td>\n",
       "      <td>8</td>\n",
       "      <td>log2</td>\n",
       "      <td>gini</td>\n",
       "      <td></td>\n",
       "    </tr>\n",
       "    <tr>\n",
       "      <th>1</th>\n",
       "      <td>0.758327</td>\n",
       "      <td>0.017640</td>\n",
       "      <td>best</td>\n",
       "      <td>8</td>\n",
       "      <td>log2</td>\n",
       "      <td>entropy</td>\n",
       "      <td></td>\n",
       "    </tr>\n",
       "    <tr>\n",
       "      <th>6</th>\n",
       "      <td>0.756061</td>\n",
       "      <td>0.021019</td>\n",
       "      <td>random</td>\n",
       "      <td>2</td>\n",
       "      <td></td>\n",
       "      <td>entropy</td>\n",
       "      <td>balanced</td>\n",
       "    </tr>\n",
       "    <tr>\n",
       "      <th>5</th>\n",
       "      <td>0.747169</td>\n",
       "      <td>0.019127</td>\n",
       "      <td>random</td>\n",
       "      <td>4</td>\n",
       "      <td></td>\n",
       "      <td>entropy</td>\n",
       "      <td>balanced</td>\n",
       "    </tr>\n",
       "    <tr>\n",
       "      <th>8</th>\n",
       "      <td>0.744206</td>\n",
       "      <td>0.008120</td>\n",
       "      <td>random</td>\n",
       "      <td>8</td>\n",
       "      <td></td>\n",
       "      <td>gini</td>\n",
       "      <td></td>\n",
       "    </tr>\n",
       "    <tr>\n",
       "      <th>2</th>\n",
       "      <td>0.726255</td>\n",
       "      <td>0.017583</td>\n",
       "      <td>random</td>\n",
       "      <td>2</td>\n",
       "      <td>sqrt</td>\n",
       "      <td>gini</td>\n",
       "      <td>balanced</td>\n",
       "    </tr>\n",
       "    <tr>\n",
       "      <th>4</th>\n",
       "      <td>0.717549</td>\n",
       "      <td>0.012898</td>\n",
       "      <td>random</td>\n",
       "      <td>6</td>\n",
       "      <td>sqrt</td>\n",
       "      <td>gini</td>\n",
       "      <td>balanced</td>\n",
       "    </tr>\n",
       "    <tr>\n",
       "      <th>9</th>\n",
       "      <td>0.706399</td>\n",
       "      <td>0.023669</td>\n",
       "      <td>random</td>\n",
       "      <td>8</td>\n",
       "      <td>log2</td>\n",
       "      <td>gini</td>\n",
       "      <td></td>\n",
       "    </tr>\n",
       "    <tr>\n",
       "      <th>3</th>\n",
       "      <td>0.705181</td>\n",
       "      <td>0.025659</td>\n",
       "      <td>random</td>\n",
       "      <td>6</td>\n",
       "      <td>log2</td>\n",
       "      <td>entropy</td>\n",
       "      <td>balanced</td>\n",
       "    </tr>\n",
       "    <tr>\n",
       "      <th>0</th>\n",
       "      <td>0.698910</td>\n",
       "      <td>0.022986</td>\n",
       "      <td>random</td>\n",
       "      <td>6</td>\n",
       "      <td>sqrt</td>\n",
       "      <td>entropy</td>\n",
       "      <td>balanced</td>\n",
       "    </tr>\n",
       "  </tbody>\n",
       "</table>\n",
       "</div>"
      ],
      "text/plain": [
       "                .Accuracy    .Error splitter  min_samples_split max_features  \\\n",
       "DecisionTree 7   0.764420  0.014069     best                  8         log2   \n",
       "             1   0.758327  0.017640     best                  8         log2   \n",
       "             6   0.756061  0.021019   random                  2                \n",
       "             5   0.747169  0.019127   random                  4                \n",
       "             8   0.744206  0.008120   random                  8                \n",
       "             2   0.726255  0.017583   random                  2         sqrt   \n",
       "             4   0.717549  0.012898   random                  6         sqrt   \n",
       "             9   0.706399  0.023669   random                  8         log2   \n",
       "             3   0.705181  0.025659   random                  6         log2   \n",
       "             0   0.698910  0.022986   random                  6         sqrt   \n",
       "\n",
       "               criterion class_weight  \n",
       "DecisionTree 7      gini               \n",
       "             1   entropy               \n",
       "             6   entropy     balanced  \n",
       "             5   entropy     balanced  \n",
       "             8      gini               \n",
       "             2      gini     balanced  \n",
       "             4      gini     balanced  \n",
       "             9      gini               \n",
       "             3   entropy     balanced  \n",
       "             0   entropy     balanced  "
      ]
     },
     "execution_count": 15,
     "metadata": {},
     "output_type": "execute_result"
    }
   ],
   "source": [
    "print(\"Tiempo de ejecución (seg): \"+str(helperRnd_DT.timeModel['DecisionTree']))\n",
    "helperRnd_DT.scoreModel().sort_values(['.Accuracy'], ascending=False).head(10)"
   ]
  },
  {
   "cell_type": "markdown",
   "metadata": {},
   "source": [
    "### SVC"
   ]
  },
  {
   "cell_type": "code",
   "execution_count": 16,
   "metadata": {},
   "outputs": [],
   "source": [
    "#helperRdn_SVC = model_estimator.EstimatorSelection(model_SVC, params_SVC)\n",
    "#helperRdn_SVC.fitModel('Rdn', X_train, y_train, scoring='accuracy', n_jobs=4, population_size=20, generations_number=10)"
   ]
  },
  {
   "cell_type": "code",
   "execution_count": 17,
   "metadata": {},
   "outputs": [],
   "source": [
    "#print(\"Tiempo de ejecución (seg): \"+str(helperRdn_SVC.timeModel['SVC']))\n",
    "#helperRdn_SVC.scoreModel().sort_values(['.Accuracy'], ascending=False).head(10)"
   ]
  },
  {
   "cell_type": "markdown",
   "metadata": {},
   "source": [
    "### kNN"
   ]
  },
  {
   "cell_type": "code",
   "execution_count": 18,
   "metadata": {
    "scrolled": true
   },
   "outputs": [
    {
     "name": "stdout",
     "output_type": "stream",
     "text": [
      "Ejecutando la búsqueda aleatoria para el modelo kNN ...\n",
      "Fitting 10 folds for each of 10 candidates, totalling 100 fits\n"
     ]
    },
    {
     "name": "stderr",
     "output_type": "stream",
     "text": [
      "[Parallel(n_jobs=4)]: Using backend LokyBackend with 4 concurrent workers.\n",
      "[Parallel(n_jobs=4)]: Done  42 tasks      | elapsed:   15.7s\n",
      "[Parallel(n_jobs=4)]: Done 100 out of 100 | elapsed:   21.2s finished\n"
     ]
    }
   ],
   "source": [
    "helperRdn_kNN = model_estimator.EstimatorSelection(model_kNN, params_kNN)\n",
    "helperRdn_kNN.fitModel('Rdn', X_train, y_train, scoring='accuracy', n_jobs=4, population_size=20, generations_number=10)"
   ]
  },
  {
   "cell_type": "code",
   "execution_count": 19,
   "metadata": {
    "scrolled": false
   },
   "outputs": [
    {
     "name": "stdout",
     "output_type": "stream",
     "text": [
      "Tiempo de ejecución (seg): [21.60860013961792]\n"
     ]
    },
    {
     "data": {
      "text/html": [
       "<div>\n",
       "<style scoped>\n",
       "    .dataframe tbody tr th:only-of-type {\n",
       "        vertical-align: middle;\n",
       "    }\n",
       "\n",
       "    .dataframe tbody tr th {\n",
       "        vertical-align: top;\n",
       "    }\n",
       "\n",
       "    .dataframe thead th {\n",
       "        text-align: right;\n",
       "    }\n",
       "</style>\n",
       "<table border=\"1\" class=\"dataframe\">\n",
       "  <thead>\n",
       "    <tr style=\"text-align: right;\">\n",
       "      <th></th>\n",
       "      <th></th>\n",
       "      <th>.Accuracy</th>\n",
       "      <th>.Error</th>\n",
       "      <th>weights</th>\n",
       "      <th>p</th>\n",
       "      <th>n_neighbors</th>\n",
       "      <th>leaf_size</th>\n",
       "      <th>algorithm</th>\n",
       "    </tr>\n",
       "  </thead>\n",
       "  <tbody>\n",
       "    <tr>\n",
       "      <th rowspan=\"10\" valign=\"top\">kNN</th>\n",
       "      <th>7</th>\n",
       "      <td>0.839001</td>\n",
       "      <td>0.016138</td>\n",
       "      <td>distance</td>\n",
       "      <td>1</td>\n",
       "      <td>6</td>\n",
       "      <td>40</td>\n",
       "      <td>brute</td>\n",
       "    </tr>\n",
       "    <tr>\n",
       "      <th>6</th>\n",
       "      <td>0.823668</td>\n",
       "      <td>0.016183</td>\n",
       "      <td>uniform</td>\n",
       "      <td>1</td>\n",
       "      <td>10</td>\n",
       "      <td>20</td>\n",
       "      <td>ball_tree</td>\n",
       "    </tr>\n",
       "    <tr>\n",
       "      <th>0</th>\n",
       "      <td>0.821750</td>\n",
       "      <td>0.016726</td>\n",
       "      <td>uniform</td>\n",
       "      <td>1</td>\n",
       "      <td>10</td>\n",
       "      <td>30</td>\n",
       "      <td>brute</td>\n",
       "    </tr>\n",
       "    <tr>\n",
       "      <th>8</th>\n",
       "      <td>0.820877</td>\n",
       "      <td>0.016387</td>\n",
       "      <td>distance</td>\n",
       "      <td>1</td>\n",
       "      <td>2</td>\n",
       "      <td>45</td>\n",
       "      <td>ball_tree</td>\n",
       "    </tr>\n",
       "    <tr>\n",
       "      <th>9</th>\n",
       "      <td>0.816521</td>\n",
       "      <td>0.017589</td>\n",
       "      <td>distance</td>\n",
       "      <td>2</td>\n",
       "      <td>8</td>\n",
       "      <td>10</td>\n",
       "      <td>ball_tree</td>\n",
       "    </tr>\n",
       "    <tr>\n",
       "      <th>1</th>\n",
       "      <td>0.805369</td>\n",
       "      <td>0.014895</td>\n",
       "      <td>distance</td>\n",
       "      <td>5</td>\n",
       "      <td>5</td>\n",
       "      <td>45</td>\n",
       "      <td>brute</td>\n",
       "    </tr>\n",
       "    <tr>\n",
       "      <th>2</th>\n",
       "      <td>0.804150</td>\n",
       "      <td>0.016882</td>\n",
       "      <td>distance</td>\n",
       "      <td>4</td>\n",
       "      <td>7</td>\n",
       "      <td>15</td>\n",
       "      <td>brute</td>\n",
       "    </tr>\n",
       "    <tr>\n",
       "      <th>4</th>\n",
       "      <td>0.800668</td>\n",
       "      <td>0.016475</td>\n",
       "      <td>uniform</td>\n",
       "      <td>4</td>\n",
       "      <td>3</td>\n",
       "      <td>40</td>\n",
       "      <td>kd_tree</td>\n",
       "    </tr>\n",
       "    <tr>\n",
       "      <th>3</th>\n",
       "      <td>0.799793</td>\n",
       "      <td>0.017546</td>\n",
       "      <td>distance</td>\n",
       "      <td>4</td>\n",
       "      <td>8</td>\n",
       "      <td>25</td>\n",
       "      <td>kd_tree</td>\n",
       "    </tr>\n",
       "    <tr>\n",
       "      <th>5</th>\n",
       "      <td>0.788469</td>\n",
       "      <td>0.018697</td>\n",
       "      <td>uniform</td>\n",
       "      <td>3</td>\n",
       "      <td>7</td>\n",
       "      <td>50</td>\n",
       "      <td>ball_tree</td>\n",
       "    </tr>\n",
       "  </tbody>\n",
       "</table>\n",
       "</div>"
      ],
      "text/plain": [
       "       .Accuracy    .Error   weights  p  n_neighbors  leaf_size  algorithm\n",
       "kNN 7   0.839001  0.016138  distance  1            6         40      brute\n",
       "    6   0.823668  0.016183   uniform  1           10         20  ball_tree\n",
       "    0   0.821750  0.016726   uniform  1           10         30      brute\n",
       "    8   0.820877  0.016387  distance  1            2         45  ball_tree\n",
       "    9   0.816521  0.017589  distance  2            8         10  ball_tree\n",
       "    1   0.805369  0.014895  distance  5            5         45      brute\n",
       "    2   0.804150  0.016882  distance  4            7         15      brute\n",
       "    4   0.800668  0.016475   uniform  4            3         40    kd_tree\n",
       "    3   0.799793  0.017546  distance  4            8         25    kd_tree\n",
       "    5   0.788469  0.018697   uniform  3            7         50  ball_tree"
      ]
     },
     "execution_count": 19,
     "metadata": {},
     "output_type": "execute_result"
    }
   ],
   "source": [
    "print(\"Tiempo de ejecución (seg): \"+str(helperRdn_kNN.timeModel['kNN']))\n",
    "helperRdn_kNN.scoreModel().sort_values(['.Accuracy'], ascending=False).head(10)"
   ]
  },
  {
   "cell_type": "markdown",
   "metadata": {},
   "source": [
    "## Testing búsqueda evolutiva"
   ]
  },
  {
   "cell_type": "markdown",
   "metadata": {},
   "source": [
    "### DT"
   ]
  },
  {
   "cell_type": "code",
   "execution_count": 20,
   "metadata": {},
   "outputs": [
    {
     "name": "stdout",
     "output_type": "stream",
     "text": [
      "Ejecutando la búsqueda evolutiva para el modelo DecisionTree ...\n",
      "Tipos: [1, 1, 1, 1, 1], rangos: [1, 1, 2, 3, 1]\n",
      "--- El modelo evoluciona en 96 posibles combinaciones ---\n",
      "gen\tnevals\tavg     \tmin     \tmax     \tstd      \n",
      "0  \t10    \t0.750131\t0.700819\t0.775919\t0.0220324\n",
      "1  \t5     \t0.76773 \t0.755184\t0.775919\t0.005892 \n",
      "2  \t6     \t0.771546\t0.765464\t0.77679 \t0.00489471\n",
      "3  \t6     \t0.774525\t0.767207\t0.77679 \t0.00352047\n",
      "4  \t5     \t0.776459\t0.775745\t0.777139\t0.000564354\n",
      "5  \t8     \t0.776529\t0.775745\t0.777139\t0.000573956\n",
      "6  \t2     \t0.776965\t0.776268\t0.777139\t0.000348493\n",
      "7  \t7     \t0.775867\t0.764767\t0.777836\t0.00373314 \n",
      "8  \t6     \t0.777017\t0.776093\t0.777836\t0.000821179\n",
      "9  \t2     \t0.775327\t0.756229\t0.777836\t0.00640279 \n"
     ]
    }
   ],
   "source": [
    "helperEvol_DT = model_estimator.EstimatorSelection(model_DT, params_DT)\n",
    "helperEvol_DT.fitModel('Evol', X_train, y_train, scoring='accuracy', n_jobs=8, population_size=10, generations_number=9)"
   ]
  },
  {
   "cell_type": "code",
   "execution_count": 21,
   "metadata": {
    "scrolled": true
   },
   "outputs": [
    {
     "name": "stdout",
     "output_type": "stream",
     "text": [
      "Tiempo de ejecución (seg): [3.5189762115478516]\n"
     ]
    },
    {
     "data": {
      "text/html": [
       "<div>\n",
       "<style scoped>\n",
       "    .dataframe tbody tr th:only-of-type {\n",
       "        vertical-align: middle;\n",
       "    }\n",
       "\n",
       "    .dataframe tbody tr th {\n",
       "        vertical-align: top;\n",
       "    }\n",
       "\n",
       "    .dataframe thead th {\n",
       "        text-align: right;\n",
       "    }\n",
       "</style>\n",
       "<table border=\"1\" class=\"dataframe\">\n",
       "  <thead>\n",
       "    <tr style=\"text-align: right;\">\n",
       "      <th></th>\n",
       "      <th></th>\n",
       "      <th>.Accuracy</th>\n",
       "      <th>.Error</th>\n",
       "      <th>class_weight</th>\n",
       "      <th>criterion</th>\n",
       "      <th>max_features</th>\n",
       "      <th>min_samples_split</th>\n",
       "      <th>splitter</th>\n",
       "    </tr>\n",
       "  </thead>\n",
       "  <tbody>\n",
       "    <tr>\n",
       "      <th rowspan=\"10\" valign=\"top\">DecisionTree</th>\n",
       "      <th>45</th>\n",
       "      <td>0.777836</td>\n",
       "      <td>0.0</td>\n",
       "      <td></td>\n",
       "      <td>gini</td>\n",
       "      <td></td>\n",
       "      <td>6</td>\n",
       "      <td>best</td>\n",
       "    </tr>\n",
       "    <tr>\n",
       "      <th>44</th>\n",
       "      <td>0.777836</td>\n",
       "      <td>0.0</td>\n",
       "      <td></td>\n",
       "      <td>gini</td>\n",
       "      <td></td>\n",
       "      <td>6</td>\n",
       "      <td>best</td>\n",
       "    </tr>\n",
       "    <tr>\n",
       "      <th>43</th>\n",
       "      <td>0.777836</td>\n",
       "      <td>0.0</td>\n",
       "      <td></td>\n",
       "      <td>gini</td>\n",
       "      <td></td>\n",
       "      <td>6</td>\n",
       "      <td>best</td>\n",
       "    </tr>\n",
       "    <tr>\n",
       "      <th>40</th>\n",
       "      <td>0.777836</td>\n",
       "      <td>0.0</td>\n",
       "      <td></td>\n",
       "      <td>gini</td>\n",
       "      <td></td>\n",
       "      <td>6</td>\n",
       "      <td>best</td>\n",
       "    </tr>\n",
       "    <tr>\n",
       "      <th>23</th>\n",
       "      <td>0.777139</td>\n",
       "      <td>0.0</td>\n",
       "      <td></td>\n",
       "      <td>gini</td>\n",
       "      <td></td>\n",
       "      <td>6</td>\n",
       "      <td>best</td>\n",
       "    </tr>\n",
       "    <tr>\n",
       "      <th>35</th>\n",
       "      <td>0.777139</td>\n",
       "      <td>0.0</td>\n",
       "      <td></td>\n",
       "      <td>gini</td>\n",
       "      <td></td>\n",
       "      <td>6</td>\n",
       "      <td>best</td>\n",
       "    </tr>\n",
       "    <tr>\n",
       "      <th>25</th>\n",
       "      <td>0.777139</td>\n",
       "      <td>0.0</td>\n",
       "      <td></td>\n",
       "      <td>gini</td>\n",
       "      <td></td>\n",
       "      <td>6</td>\n",
       "      <td>best</td>\n",
       "    </tr>\n",
       "    <tr>\n",
       "      <th>33</th>\n",
       "      <td>0.777139</td>\n",
       "      <td>0.0</td>\n",
       "      <td></td>\n",
       "      <td>gini</td>\n",
       "      <td></td>\n",
       "      <td>6</td>\n",
       "      <td>best</td>\n",
       "    </tr>\n",
       "    <tr>\n",
       "      <th>31</th>\n",
       "      <td>0.777139</td>\n",
       "      <td>0.0</td>\n",
       "      <td></td>\n",
       "      <td>gini</td>\n",
       "      <td></td>\n",
       "      <td>6</td>\n",
       "      <td>best</td>\n",
       "    </tr>\n",
       "    <tr>\n",
       "      <th>29</th>\n",
       "      <td>0.777139</td>\n",
       "      <td>0.0</td>\n",
       "      <td></td>\n",
       "      <td>gini</td>\n",
       "      <td></td>\n",
       "      <td>6</td>\n",
       "      <td>best</td>\n",
       "    </tr>\n",
       "  </tbody>\n",
       "</table>\n",
       "</div>"
      ],
      "text/plain": [
       "                 .Accuracy  .Error class_weight criterion max_features  \\\n",
       "DecisionTree 45   0.777836     0.0                   gini                \n",
       "             44   0.777836     0.0                   gini                \n",
       "             43   0.777836     0.0                   gini                \n",
       "             40   0.777836     0.0                   gini                \n",
       "             23   0.777139     0.0                   gini                \n",
       "             35   0.777139     0.0                   gini                \n",
       "             25   0.777139     0.0                   gini                \n",
       "             33   0.777139     0.0                   gini                \n",
       "             31   0.777139     0.0                   gini                \n",
       "             29   0.777139     0.0                   gini                \n",
       "\n",
       "                 min_samples_split splitter  \n",
       "DecisionTree 45                  6     best  \n",
       "             44                  6     best  \n",
       "             43                  6     best  \n",
       "             40                  6     best  \n",
       "             23                  6     best  \n",
       "             35                  6     best  \n",
       "             25                  6     best  \n",
       "             33                  6     best  \n",
       "             31                  6     best  \n",
       "             29                  6     best  "
      ]
     },
     "execution_count": 21,
     "metadata": {},
     "output_type": "execute_result"
    }
   ],
   "source": [
    "print(\"Tiempo de ejecución (seg): \"+str(helperEvol_DT.timeModel['DecisionTree']))\n",
    "helperEvol_DT.scoreModel().sort_values(['.Accuracy'], ascending=False).head(10)"
   ]
  },
  {
   "cell_type": "markdown",
   "metadata": {},
   "source": [
    "### SVC"
   ]
  },
  {
   "cell_type": "code",
   "execution_count": 22,
   "metadata": {},
   "outputs": [],
   "source": [
    "#helperEvol_SVM = model_estimator.EstimatorSelection(model_SVC, params_SVC)\n",
    "#helperEvol_SVM.fitModel('Evol', X_train, y_train, scoring='accuracy', n_jobs=4, population_size=20, generations_number=10)"
   ]
  },
  {
   "cell_type": "code",
   "execution_count": 23,
   "metadata": {},
   "outputs": [],
   "source": [
    "#print(\"Tiempo de ejecución (seg): \"+str(helperEvol_SVM.timeModel['SVC']))\n",
    "#helperEvol_SVM.scoreModel().sort_values(['.Accuracy'], ascending=False).head(10)"
   ]
  },
  {
   "cell_type": "markdown",
   "metadata": {},
   "source": [
    "### kNN"
   ]
  },
  {
   "cell_type": "code",
   "execution_count": 24,
   "metadata": {
    "scrolled": true
   },
   "outputs": [],
   "source": [
    "#helperEvol_kNN = model_estimator.EstimatorSelection(model_kNN, params_kNN)\n",
    "#helperEvol_kNN.fitModel('Evol', X_train, y_train, scoring='accuracy', n_jobs=4, population_size=20, generations_number=10)"
   ]
  },
  {
   "cell_type": "code",
   "execution_count": 25,
   "metadata": {
    "scrolled": false
   },
   "outputs": [],
   "source": [
    "#print(\"Tiempo de ejecución (seg): \"+str(helperEvol_kNN.timeModel['kNN']))\n",
    "#helperEvol_kNN.scoreModel().sort_values(['.Accuracy'], ascending=False).head(10)"
   ]
  }
 ],
 "metadata": {
  "kernelspec": {
   "display_name": "Python 3",
   "language": "python",
   "name": "python3"
  },
  "language_info": {
   "codemirror_mode": {
    "name": "ipython",
    "version": 3
   },
   "file_extension": ".py",
   "mimetype": "text/x-python",
   "name": "python",
   "nbconvert_exporter": "python",
   "pygments_lexer": "ipython3",
   "version": "3.7.6"
  }
 },
 "nbformat": 4,
 "nbformat_minor": 2
}
